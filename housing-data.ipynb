{
 "cells": [
  {
   "cell_type": "code",
   "execution_count": 1,
   "metadata": {
    "_cell_guid": "b1076dfc-b9ad-4769-8c92-a6c4dae69d19",
    "_uuid": "8f2839f25d086af736a60e9eeb907d3b93b6e0e5"
   },
   "outputs": [
    {
     "name": "stdout",
     "output_type": "stream",
     "text": [
      "/kaggle/input/sample_submission.csv\n",
      "/kaggle/input/data_description.txt\n",
      "/kaggle/input/test.csv\n",
      "/kaggle/input/train.csv\n"
     ]
    }
   ],
   "source": [
    "# This Python 3 environment comes with many helpful analytics libraries installed\n",
    "# It is defined by the kaggle/python docker image: https://github.com/kaggle/docker-python\n",
    "# For example, here's several helpful packages to load in \n",
    "\n",
    "import numpy as np # linear algebra\n",
    "import pandas as pd # data processing, CSV file I/O (e.g. pd.read_csv)\n",
    "\n",
    "# Input data files are available in the \"../input/\" directory.\n",
    "# For example, running this (by clicking run or pressing Shift+Enter) will list all files under the input directory\n",
    "\n",
    "import os\n",
    "for dirname, _, filenames in os.walk('/kaggle/input'):\n",
    "    for filename in filenames:\n",
    "        print(os.path.join(dirname, filename))\n",
    "\n",
    "# Any results you write to the current directory are saved as output."
   ]
  },
  {
   "cell_type": "code",
   "execution_count": 2,
   "metadata": {
    "_cell_guid": "79c7e3d0-c299-4dcb-8224-4455121ee9b0",
    "_uuid": "d629ff2d2480ee46fbb7e2d37f6b5fab8052498a"
   },
   "outputs": [
    {
     "name": "stdout",
     "output_type": "stream",
     "text": [
      "training shape is: (1460, 81)\n",
      "test shape is: (1459, 80)\n",
      "['Id', 'MSSubClass', 'MSZoning', 'LotFrontage', 'LotArea', 'Street', 'Alley', 'LotShape', 'LandContour', 'Utilities', 'LotConfig', 'LandSlope', 'Neighborhood', 'Condition1', 'Condition2', 'BldgType', 'HouseStyle', 'OverallQual', 'OverallCond', 'YearBuilt', 'YearRemodAdd', 'RoofStyle', 'RoofMatl', 'Exterior1st', 'Exterior2nd', 'MasVnrType', 'MasVnrArea', 'ExterQual', 'ExterCond', 'Foundation', 'BsmtQual', 'BsmtCond', 'BsmtExposure', 'BsmtFinType1', 'BsmtFinSF1', 'BsmtFinType2', 'BsmtFinSF2', 'BsmtUnfSF', 'TotalBsmtSF', 'Heating', 'HeatingQC', 'CentralAir', 'Electrical', '1stFlrSF', '2ndFlrSF', 'LowQualFinSF', 'GrLivArea', 'BsmtFullBath', 'BsmtHalfBath', 'FullBath', 'HalfBath', 'BedroomAbvGr', 'KitchenAbvGr', 'KitchenQual', 'TotRmsAbvGrd', 'Functional', 'Fireplaces', 'FireplaceQu', 'GarageType', 'GarageYrBlt', 'GarageFinish', 'GarageCars', 'GarageArea', 'GarageQual', 'GarageCond', 'PavedDrive', 'WoodDeckSF', 'OpenPorchSF', 'EnclosedPorch', '3SsnPorch', 'ScreenPorch', 'PoolArea', 'PoolQC', 'Fence', 'MiscFeature', 'MiscVal', 'MoSold', 'YrSold', 'SaleType', 'SaleCondition', 'SalePrice']\n"
     ]
    }
   ],
   "source": [
    "data_train=pd.read_csv('../input/train.csv')\n",
    "print('training shape is:',data_train.shape)\n",
    "data_test=pd.read_csv('../input/test.csv')\n",
    "print('test shape is:',data_test.shape)\n",
    "cols=list(data_train.columns)\n",
    "print(cols)"
   ]
  },
  {
   "cell_type": "code",
   "execution_count": 3,
   "metadata": {},
   "outputs": [],
   "source": [
    "string_cols = []\n",
    "for col in cols: \n",
    "    col_meaning = data_train[~data_train[col].isna()][col].tolist()\n",
    "    type_col = type(col_meaning[0]).__name__ \n",
    "    if type_col == 'str' or type_col == 'object':\n",
    "        string_cols.append(col)"
   ]
  },
  {
   "cell_type": "code",
   "execution_count": 4,
   "metadata": {},
   "outputs": [
    {
     "data": {
      "text/plain": [
       "True"
      ]
     },
     "execution_count": 4,
     "metadata": {},
     "output_type": "execute_result"
    }
   ],
   "source": [
    "'Alley' in string_cols"
   ]
  },
  {
   "cell_type": "code",
   "execution_count": 5,
   "metadata": {},
   "outputs": [
    {
     "name": "stderr",
     "output_type": "stream",
     "text": [
      "/opt/conda/lib/python3.6/site-packages/ipykernel_launcher.py:3: FutureWarning: Sorting because non-concatenation axis is not aligned. A future version\n",
      "of pandas will change to not sort by default.\n",
      "\n",
      "To accept the future behavior, pass 'sort=False'.\n",
      "\n",
      "To retain the current behavior and silence the warning, pass 'sort=True'.\n",
      "\n",
      "  This is separate from the ipykernel package so we can avoid doing imports until\n"
     ]
    }
   ],
   "source": [
    "data_train['flag'] = 'train'\n",
    "data_test['flag'] = 'test'\n",
    "data = pd.concat([data_train,data_test])"
   ]
  },
  {
   "cell_type": "code",
   "execution_count": 6,
   "metadata": {},
   "outputs": [
    {
     "name": "stdout",
     "output_type": "stream",
     "text": [
      "MSZoning (2919, 5)\n",
      "Street (2919, 7)\n",
      "Alley (2919, 9)\n",
      "LotShape (2919, 13)\n",
      "LandContour (2919, 17)\n",
      "Utilities (2919, 19)\n",
      "LotConfig (2919, 24)\n",
      "LandSlope (2919, 27)\n",
      "Neighborhood (2919, 52)\n",
      "Condition1 (2919, 61)\n",
      "Condition2 (2919, 69)\n",
      "BldgType (2919, 74)\n",
      "HouseStyle (2919, 82)\n",
      "RoofStyle (2919, 88)\n",
      "RoofMatl (2919, 96)\n",
      "Exterior1st (2919, 111)\n",
      "Exterior2nd (2919, 127)\n",
      "MasVnrType (2919, 131)\n",
      "ExterQual (2919, 135)\n",
      "ExterCond (2919, 140)\n",
      "Foundation (2919, 146)\n",
      "BsmtQual (2919, 150)\n",
      "BsmtCond (2919, 154)\n",
      "BsmtExposure (2919, 158)\n",
      "BsmtFinType1 (2919, 164)\n",
      "BsmtFinType2 (2919, 170)\n",
      "Heating (2919, 176)\n",
      "HeatingQC (2919, 181)\n",
      "CentralAir (2919, 183)\n",
      "Electrical (2919, 188)\n",
      "KitchenQual (2919, 192)\n",
      "Functional (2919, 199)\n",
      "FireplaceQu (2919, 204)\n",
      "GarageType (2919, 210)\n",
      "GarageFinish (2919, 213)\n",
      "GarageQual (2919, 218)\n",
      "GarageCond (2919, 223)\n",
      "PavedDrive (2919, 226)\n",
      "PoolQC (2919, 229)\n",
      "Fence (2919, 233)\n",
      "MiscFeature (2919, 237)\n",
      "SaleType (2919, 246)\n",
      "SaleCondition (2919, 252)\n"
     ]
    }
   ],
   "source": [
    "def add_dummies(data):\n",
    "    small_data = pd.DataFrame()\n",
    "    for col in string_cols:\n",
    "        curr_data = pd.get_dummies(data[col],prefix = col)\n",
    "        data = data.drop(col,axis = 1)\n",
    "        small_data = pd.concat([small_data,curr_data], axis = 1)\n",
    "        print(col,small_data.shape)\n",
    "    data = pd.concat([data,small_data],axis = 1)\n",
    "    return data\n",
    "data = add_dummies(data)"
   ]
  },
  {
   "cell_type": "code",
   "execution_count": 7,
   "metadata": {},
   "outputs": [
    {
     "data": {
      "text/plain": [
       "1stFlrSF                   int64\n",
       "2ndFlrSF                   int64\n",
       "3SsnPorch                  int64\n",
       "BedroomAbvGr               int64\n",
       "BsmtFinSF1               float64\n",
       "BsmtFinSF2               float64\n",
       "BsmtFullBath             float64\n",
       "BsmtHalfBath             float64\n",
       "BsmtUnfSF                float64\n",
       "EnclosedPorch              int64\n",
       "Fireplaces                 int64\n",
       "FullBath                   int64\n",
       "GarageArea               float64\n",
       "GarageCars               float64\n",
       "GarageYrBlt              float64\n",
       "GrLivArea                  int64\n",
       "HalfBath                   int64\n",
       "Id                         int64\n",
       "KitchenAbvGr               int64\n",
       "LotArea                    int64\n",
       "LotFrontage              float64\n",
       "LowQualFinSF               int64\n",
       "MSSubClass                 int64\n",
       "MasVnrArea               float64\n",
       "MiscVal                    int64\n",
       "MoSold                     int64\n",
       "OpenPorchSF                int64\n",
       "OverallCond                int64\n",
       "OverallQual                int64\n",
       "PoolArea                   int64\n",
       "                          ...   \n",
       "GarageCond_TA              uint8\n",
       "PavedDrive_N               uint8\n",
       "PavedDrive_P               uint8\n",
       "PavedDrive_Y               uint8\n",
       "PoolQC_Ex                  uint8\n",
       "PoolQC_Fa                  uint8\n",
       "PoolQC_Gd                  uint8\n",
       "Fence_GdPrv                uint8\n",
       "Fence_GdWo                 uint8\n",
       "Fence_MnPrv                uint8\n",
       "Fence_MnWw                 uint8\n",
       "MiscFeature_Gar2           uint8\n",
       "MiscFeature_Othr           uint8\n",
       "MiscFeature_Shed           uint8\n",
       "MiscFeature_TenC           uint8\n",
       "SaleType_COD               uint8\n",
       "SaleType_CWD               uint8\n",
       "SaleType_Con               uint8\n",
       "SaleType_ConLD             uint8\n",
       "SaleType_ConLI             uint8\n",
       "SaleType_ConLw             uint8\n",
       "SaleType_New               uint8\n",
       "SaleType_Oth               uint8\n",
       "SaleType_WD                uint8\n",
       "SaleCondition_Abnorml      uint8\n",
       "SaleCondition_AdjLand      uint8\n",
       "SaleCondition_Alloca       uint8\n",
       "SaleCondition_Family       uint8\n",
       "SaleCondition_Normal       uint8\n",
       "SaleCondition_Partial      uint8\n",
       "Length: 291, dtype: object"
      ]
     },
     "execution_count": 7,
     "metadata": {},
     "output_type": "execute_result"
    }
   ],
   "source": [
    "cols = list(data.columns)\n",
    "for col in cols:\n",
    "    if type(data[col][0]).__name__ == 'str':\n",
    "        print(col)\n",
    "data.dtypes"
   ]
  },
  {
   "cell_type": "markdown",
   "metadata": {},
   "source": [
    "Hence we have successfully turned all the text columns into dummy, binary variables. Now, let's use different models."
   ]
  },
  {
   "cell_type": "code",
   "execution_count": 8,
   "metadata": {},
   "outputs": [
    {
     "name": "stdout",
     "output_type": "stream",
     "text": [
      "(1460, 290)\n",
      "(1459, 290)\n",
      "290\n"
     ]
    }
   ],
   "source": [
    "data_train = data[data['flag']=='train']\n",
    "data_test = data[data['flag'] == 'test']\n",
    "data_train = data_train.drop(['flag'],axis = 1)\n",
    "data_test = data_test.drop(['flag'],axis = 1)\n",
    "\n",
    "print(data_train.shape)\n",
    "print(data_test.shape)\n",
    "cols_train = set(data_train.columns)\n",
    "cols_test = set(data_test.columns)\n",
    "#print(data_train.columns)\n",
    "#print(data_test.columns)\n",
    "print(len(cols_train.intersection(cols_test)))"
   ]
  },
  {
   "cell_type": "code",
   "execution_count": 9,
   "metadata": {},
   "outputs": [],
   "source": [
    "#linear regression\n",
    "from sklearn.ensemble import RandomForestRegressor as rfreg\n",
    "from sklearn.metrics import mean_squared_error as rmse_1\n",
    "from sklearn.impute import SimpleImputer\n",
    "my_imputer=SimpleImputer()\n",
    "data_train = data_train[~(data_train['SalePrice'].isna())]\n",
    "X_train = data_train.drop('SalePrice',axis = 1)\n",
    "Y_train = data_train['SalePrice']\n",
    "X_test = data_test\n",
    "X_train=my_imputer.fit_transform(X_train)\n",
    "X_test=my_imputer.fit_transform(X_test)\n",
    "\n",
    "linreg=rfreg(n_estimators = 1000, max_depth = 8,min_samples_split = 15, max_features = 95,\n",
    "             oob_score=True,n_jobs=-1)\n",
    "fitted_model = linreg.fit(X_train,Y_train)\n",
    "predictions=fitted_model.predict(X_test)\n"
   ]
  },
  {
   "cell_type": "code",
   "execution_count": 10,
   "metadata": {},
   "outputs": [
    {
     "name": "stdout",
     "output_type": "stream",
     "text": [
      "19585.07557365119\n",
      "0.9391805861200619\n",
      "0.8587794734550416\n"
     ]
    }
   ],
   "source": [
    "pred_train = fitted_model.predict(X_train)\n",
    "print(rmse_1(pred_train,Y_train)**0.5)\n",
    "from sklearn.metrics import r2_score as rs\n",
    "print(rs(Y_train,pred_train))\n",
    "print(fitted_model.oob_score_)"
   ]
  },
  {
   "cell_type": "code",
   "execution_count": 11,
   "metadata": {},
   "outputs": [
    {
     "data": {
      "text/plain": [
       "count      1460.000000\n",
       "mean     180921.195890\n",
       "std       79442.502883\n",
       "min       34900.000000\n",
       "25%      129975.000000\n",
       "50%      163000.000000\n",
       "75%      214000.000000\n",
       "max      755000.000000\n",
       "Name: SalePrice, dtype: float64"
      ]
     },
     "execution_count": 11,
     "metadata": {},
     "output_type": "execute_result"
    }
   ],
   "source": [
    "Y_train.describe()"
   ]
  },
  {
   "cell_type": "code",
   "execution_count": 12,
   "metadata": {},
   "outputs": [],
   "source": [
    "predictions_table=pd.DataFrame()\n",
    "predictions_table['Id'] = [1461+i for i in range(1459)]\n",
    "predictions_table['SalePrice'] = predictions\n",
    "predictions_table.to_csv('vanilla_submission.csv',index = False)"
   ]
  }
 ],
 "metadata": {
  "kernelspec": {
   "display_name": "Python 3",
   "language": "python",
   "name": "python3"
  },
  "language_info": {
   "codemirror_mode": {
    "name": "ipython",
    "version": 3
   },
   "file_extension": ".py",
   "mimetype": "text/x-python",
   "name": "python",
   "nbconvert_exporter": "python",
   "pygments_lexer": "ipython3",
   "version": "3.6.6"
  }
 },
 "nbformat": 4,
 "nbformat_minor": 4
}
